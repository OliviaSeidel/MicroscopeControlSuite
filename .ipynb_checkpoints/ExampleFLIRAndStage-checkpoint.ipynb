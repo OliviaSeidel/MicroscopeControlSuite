{
 "cells": [
  {
   "cell_type": "code",
   "execution_count": 1,
   "id": "b44a20d9",
   "metadata": {},
   "outputs": [
    {
     "data": {
      "image/png": "[encoded data removed]",
      "text/plain": [
       "<Figure size 72x72 with 1 Axes>"
      ]
     },
     "metadata": {
      "needs_background": "light"
     },
     "output_type": "display_data"
    }
   ],
   "source": [
    "# For some reason this seems to be necessary in anaconda to stop matplotlib crashing\n",
    "import matplotlib.pyplot as plt\n",
    "%matplotlib inline\n",
    "plt.figure(figsize=(1,1))\n",
    "plt.plot([1,2],[2,4])\n",
    "plt.show()"
   ]
  },
  {
   "cell_type": "code",
   "execution_count": 2,
   "id": "42242dab",
   "metadata": {},
   "outputs": [],
   "source": [
    "# Now import everything else\n",
    "import numpy as np\n",
    "import pylab\n",
    "import time\n"
   ]
  },
  {
   "cell_type": "markdown",
   "id": "a3a100ce",
   "metadata": {},
   "source": [
    "# Camera Object"
   ]
  },
  {
   "cell_type": "code",
   "execution_count": 3,
   "id": "5e3d2c61",
   "metadata": {},
   "outputs": [],
   "source": [
    "# Make a camera object\n",
    "from CamFLIR import CamFLIR\n",
    "cam=CamFLIR()"
   ]
  },
  {
   "cell_type": "code",
   "execution_count": 4,
   "id": "55a36beb",
   "metadata": {},
   "outputs": [
    {
     "name": "stdout",
     "output_type": "stream",
     "text": [
      "Grabbed Image 0, width = 1440, height = 1080\n"
     ]
    }
   ],
   "source": [
    "#This is how you take a photo\n",
    "img=cam.Snap(1)"
   ]
  },
  {
   "cell_type": "code",
   "execution_count": 5,
   "id": "6c9373a4",
   "metadata": {
    "scrolled": true
   },
   "outputs": [
    {
     "data": {
      "text/plain": [
       "<matplotlib.image.AxesImage at 0x9e64a88>"
      ]
     },
     "execution_count": 5,
     "metadata": {},
     "output_type": "execute_result"
    },
    {
     "data": {
      "image/png": "[encoded data removed]",
      "text/plain": [
       "<Figure size 1000x1000 with 1 Axes>"
      ]
     },
     "metadata": {
      "needs_background": "light"
     },
     "output_type": "display_data"
    }
   ],
   "source": [
    "#and plot it\n",
    "plt.figure(figsize=(5,5),dpi=200)\n",
    "pylab.imshow(img[0],clim=(100,200))"
   ]
  },
  {
   "cell_type": "markdown",
   "id": "70a6812b",
   "metadata": {},
   "source": [
    "# Stage Object"
   ]
  },
  {
   "cell_type": "code",
   "execution_count": 6,
   "id": "2a7d0081",
   "metadata": {},
   "outputs": [],
   "source": [
    "#Initiate a stage object\n",
    "from Stage import Stage\n",
    "stage=Stage()"
   ]
  },
  {
   "cell_type": "code",
   "execution_count": 8,
   "id": "b61eefa8",
   "metadata": {},
   "outputs": [
    {
     "ename": "NameError",
     "evalue": "name 'stg' is not defined",
     "output_type": "error",
     "traceback": [
      "\u001b[1;31m---------------------------------------------------------------------------\u001b[0m",
      "\u001b[1;31mNameError\u001b[0m                                 Traceback (most recent call last)",
      "\u001b[1;32m~\\AppData\\Local\\Temp/ipykernel_8828/2675029707.py\u001b[0m in \u001b[0;36m<module>\u001b[1;34m\u001b[0m\n\u001b[0;32m      1\u001b[0m \u001b[1;31m#Move in X and into focus\u001b[0m\u001b[1;33m\u001b[0m\u001b[1;33m\u001b[0m\u001b[1;33m\u001b[0m\u001b[0m\n\u001b[1;32m----> 2\u001b[1;33m \u001b[0mstg\u001b[0m\u001b[1;33m.\u001b[0m\u001b[0mMoveToX\u001b[0m\u001b[1;33m(\u001b[0m\u001b[1;36m0.0\u001b[0m\u001b[1;33m)\u001b[0m\u001b[1;33m\u001b[0m\u001b[1;33m\u001b[0m\u001b[0m\n\u001b[0m\u001b[0;32m      3\u001b[0m \u001b[0mstg\u001b[0m\u001b[1;33m.\u001b[0m\u001b[0mMoveToZ\u001b[0m\u001b[1;33m(\u001b[0m\u001b[1;36m3.4\u001b[0m\u001b[1;33m)\u001b[0m\u001b[1;33m\u001b[0m\u001b[1;33m\u001b[0m\u001b[0m\n\u001b[0;32m      4\u001b[0m \u001b[1;33m\u001b[0m\u001b[0m\n\u001b[0;32m      5\u001b[0m \u001b[1;31m#Query position\u001b[0m\u001b[1;33m\u001b[0m\u001b[1;33m\u001b[0m\u001b[1;33m\u001b[0m\u001b[0m\n",
      "\u001b[1;31mNameError\u001b[0m: name 'stg' is not defined"
     ]
    }
   ],
   "source": [
    "#Move in X and into focus\n",
    "stg.MoveToX(0.0)\n",
    "stg.MoveToZ(3.4)\n",
    "\n",
    "#Query position\n",
    "print(\"Stage at \",stg.X,stg.Y,stg.Z)"
   ]
  },
  {
   "cell_type": "markdown",
   "id": "180c7f1d",
   "metadata": {},
   "source": [
    "# Scan Example"
   ]
  },
  {
   "cell_type": "code",
   "execution_count": null,
   "id": "869088bd",
   "metadata": {},
   "outputs": [],
   "source": [
    "def MakeImageSweep(Zs,showthem=True):\n",
    "    \n",
    "    # Put the images in this array\n",
    "    pics=[]\n",
    "    \n",
    "    for i in range(0,len(Zs)):\n",
    "        \n",
    "        # Move stage\n",
    "        stage.MoveToZ(Zs[i])\n",
    "        \n",
    "        #Snap a pic\n",
    "        pics.append(camera.Snap(1)[0])\n",
    "        \n",
    "\n",
    "    return pics"
   ]
  },
  {
   "cell_type": "code",
   "execution_count": null,
   "id": "0ca5d0ff",
   "metadata": {
    "scrolled": true
   },
   "outputs": [],
   "source": [
    "Zs=np.linspace(3.4,3.4027,60)\n",
    "pics=MakeImageSweep(Zs,showthem=True)"
   ]
  },
  {
   "cell_type": "code",
   "execution_count": null,
   "id": "dc2877b7",
   "metadata": {},
   "outputs": [],
   "source": [
    "for i in range(0,len(pics)):\n",
    "    #Optionally display them\n",
    "    plt.figure(figsize=(5,5))\n",
    "    plt.imshow(pics[i])\n",
    "    plt.title(Zs[i])\n",
    "    plt.clim(50,250)"
   ]
  },
  {
   "cell_type": "code",
   "execution_count": null,
   "id": "5226fadc",
   "metadata": {},
   "outputs": [],
   "source": [
    "Integrals=[sum(sum(p)) for p in pics]\n",
    "plt.figure(figsize=(5,5),dpi=150)\n",
    "plt.xlabel(\"Z pos (mm)\")\n",
    "plt.ylabel(\"Intensity (arb)\")\n",
    "plt.plot(Zs,Integrals)"
   ]
  },
  {
   "cell_type": "code",
   "execution_count": null,
   "id": "8b6e1d9c",
   "metadata": {},
   "outputs": [],
   "source": []
  }
 ],
 "metadata": {
  "kernelspec": {
   "display_name": "Python 3 (ipykernel)",
   "language": "python",
   "name": "python3"
  },
  "language_info": {
   "codemirror_mode": {
    "name": "ipython",
    "version": 3
   },
   "file_extension": ".py",
   "mimetype": "text/x-python",
   "name": "python",
   "nbconvert_exporter": "python",
   "pygments_lexer": "ipython3",
   "version": "3.7.11"
  }
 },
 "nbformat": 4,
 "nbformat_minor": 5
}
