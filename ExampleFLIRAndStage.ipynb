{
 "cells": [
  {
   "cell_type": "code",
   "execution_count": null,
   "metadata": {},
   "outputs": [],
   "source": [
    "# For some reason this seems to be necessary in anaconda to stop matplotlib crashing\n",
    "import matplotlib.pyplot as plt\n",
    "%matplotlib inline\n",
    "plt.figure(figsize=(1,1))\n",
    "plt.plot([1,2],[2,4])\n",
    "plt.show()"
   ]
  },
  {
   "cell_type": "code",
   "execution_count": null,
   "metadata": {},
   "outputs": [],
   "source": [
    "# Now import everything else\n",
    "import numpy as np\n",
    "import pylab\n",
    "import time\n"
   ]
  },
  {
   "cell_type": "markdown",
   "metadata": {},
   "source": [
    "# Camera Object"
   ]
  },
  {
   "cell_type": "code",
   "execution_count": null,
   "metadata": {},
   "outputs": [],
   "source": [
    "# Make a camera object\n",
    "from CamFLIR import CamFLIR\n",
    "cam=CamFLIR()"
   ]
  },
  {
   "cell_type": "code",
   "execution_count": null,
   "metadata": {},
   "outputs": [],
   "source": [
    "#This is how you take a photo\n",
    "img=cam.Snap(1)"
   ]
  },
  {
   "cell_type": "code",
   "execution_count": null,
   "metadata": {
    "scrolled": true
   },
   "outputs": [],
   "source": [
    "#and plot it\n",
    "plt.figure(figsize=(5,5),dpi=200)\n",
    "pylab.imshow(img[0],clim=(100,200))"
   ]
  },
  {
   "cell_type": "markdown",
   "metadata": {},
   "source": [
    "# Stage Object"
   ]
  },
  {
   "cell_type": "code",
   "execution_count": null,
   "metadata": {},
   "outputs": [],
   "source": [
    "#Initiate a stage object\n",
    "from Stage import Stage\n",
    "stg=Stage()"
   ]
  },
  {
   "cell_type": "code",
   "execution_count": null,
   "metadata": {},
   "outputs": [],
   "source": [
    "#Move in X and into focus\n",
    "stg.MoveToX(0.0)\n",
    "stg.MoveToZ(3.4)\n",
    "\n",
    "#Query position\n",
    "print(\"Stage at \",stg.X,stg.Y,stg.Z)"
   ]
  },
  {
   "cell_type": "markdown",
   "metadata": {},
   "source": [
    "# Scan Example"
   ]
  },
  {
   "cell_type": "code",
   "execution_count": null,
   "metadata": {},
   "outputs": [],
   "source": [
    "def MakeImageSweep(Zs,showthem=True):\n",
    "    \n",
    "    # Put the images in this array\n",
    "    pics=[]\n",
    "    \n",
    "    for i in range(0,len(Zs)):\n",
    "        \n",
    "        # Move stage\n",
    "        stg.MoveToZ(Zs[i])\n",
    "        \n",
    "        #Snap a pic\n",
    "        pics.append(cam.Snap(1)[0])\n",
    "        \n",
    "\n",
    "    return pics"
   ]
  },
  {
   "cell_type": "code",
   "execution_count": null,
   "metadata": {
    "scrolled": true
   },
   "outputs": [],
   "source": [
    "Zs=np.linspace(3.4,3.4027,60)\n",
    "pics=MakeImageSweep(Zs,showthem=True)"
   ]
  },
  {
   "cell_type": "code",
   "execution_count": null,
   "metadata": {},
   "outputs": [],
   "source": [
    "for i in range(0,len(pics)):\n",
    "    #Optionally display them\n",
    "    plt.figure(figsize=(5,5))\n",
    "    plt.imshow(pics[i])\n",
    "    plt.title(Zs[i])\n",
    "    plt.clim(50,250)"
   ]
  },
  {
   "cell_type": "code",
   "execution_count": null,
   "metadata": {},
   "outputs": [],
   "source": [
    "Integrals=[sum(sum(p)) for p in pics]\n",
    "plt.figure(figsize=(5,5),dpi=150)\n",
    "plt.xlabel(\"Z pos (mm)\")\n",
    "plt.ylabel(\"Intensity (arb)\")\n",
    "plt.plot(Zs,Integrals)"
   ]
  },
  {
   "cell_type": "code",
   "execution_count": null,
   "metadata": {},
   "outputs": [],
   "source": []
  }
 ],
 "metadata": {
  "kernelspec": {
   "display_name": "Python 3",
   "language": "python",
   "name": "python3"
  },
  "language_info": {
   "codemirror_mode": {
    "name": "ipython",
    "version": 3
   },
   "file_extension": ".py",
   "mimetype": "text/x-python",
   "name": "python",
   "nbconvert_exporter": "python",
   "pygments_lexer": "ipython3",
   "version": "3.8.6"
  }
 },
 "nbformat": 4,
 "nbformat_minor": 5
}
