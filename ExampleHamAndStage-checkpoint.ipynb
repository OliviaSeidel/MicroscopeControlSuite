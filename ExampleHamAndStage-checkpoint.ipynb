{
 "cells": [
  {
   "cell_type": "code",
   "execution_count": 2,
   "id": "3c0bea1a",
   "metadata": {},
   "outputs": [
    {
     "data": {
      "image/png": "[encoded data removed]",
      "text/plain": [
       "<Figure size 72x72 with 1 Axes>"
      ]
     },
     "metadata": {
      "needs_background": "light"
     },
     "output_type": "display_data"
    }
   ],
   "source": [
    "# For some reason this seems to be necessary in anaconda to stop matplotlib crashing\n",
    "import matplotlib.pyplot as plt\n",
    "%matplotlib inline\n",
    "plt.figure(figsize=(1,1))\n",
    "plt.plot([1,2],[2,4])\n",
    "plt.show()"
   ]
  },
  {
   "cell_type": "code",
   "execution_count": 3,
   "id": "a742a501",
   "metadata": {},
   "outputs": [],
   "source": [
    "# Now import everything else\n",
    "import numpy as np\n",
    "import pylab\n",
    "import time\n",
    "import scipy\n",
    "from scipy.interpolate import interp2d\n",
    "from numpy import arange\n",
    "import os\n",
    "from PIL import Image"
   ]
  },
  {
   "cell_type": "markdown",
   "id": "f8dc2bf2",
   "metadata": {},
   "source": [
    "# Camera Object"
   ]
  },
  {
   "cell_type": "code",
   "execution_count": 4,
   "id": "9e529bd4",
   "metadata": {},
   "outputs": [
    {
     "ename": "ModuleNotFoundError",
     "evalue": "No module named 'CamHamThread'",
     "output_type": "error",
     "traceback": [
      "\u001b[1;31m---------------------------------------------------------------------------\u001b[0m",
      "\u001b[1;31mModuleNotFoundError\u001b[0m                       Traceback (most recent call last)",
      "\u001b[1;32m~\\AppData\\Local\\Temp/ipykernel_9732/755493448.py\u001b[0m in \u001b[0;36m<module>\u001b[1;34m\u001b[0m\n\u001b[0;32m      1\u001b[0m \u001b[1;31m# Make a camera object\u001b[0m\u001b[1;33m\u001b[0m\u001b[1;33m\u001b[0m\u001b[1;33m\u001b[0m\u001b[0m\n\u001b[0;32m      2\u001b[0m \u001b[1;31m#from CamFLIR import CamFLIR\u001b[0m\u001b[1;33m\u001b[0m\u001b[1;33m\u001b[0m\u001b[1;33m\u001b[0m\u001b[0m\n\u001b[1;32m----> 3\u001b[1;33m \u001b[1;32mfrom\u001b[0m \u001b[0mCamHamThread\u001b[0m \u001b[1;32mimport\u001b[0m \u001b[0mCamHamThread\u001b[0m\u001b[1;33m\u001b[0m\u001b[1;33m\u001b[0m\u001b[0m\n\u001b[0m\u001b[0;32m      4\u001b[0m \u001b[0mcam\u001b[0m\u001b[1;33m=\u001b[0m\u001b[0mCamHamThread\u001b[0m\u001b[1;33m(\u001b[0m\u001b[0mexposure\u001b[0m\u001b[1;33m=\u001b[0m\u001b[1;36m0.5\u001b[0m\u001b[1;33m,\u001b[0m\u001b[0mSensitivityGain\u001b[0m\u001b[1;33m=\u001b[0m\u001b[1;36m4\u001b[0m\u001b[1;33m,\u001b[0m\u001b[0mCCDMode\u001b[0m\u001b[1;33m=\u001b[0m\u001b[1;34m\"NormalCCD\"\u001b[0m\u001b[1;33m)\u001b[0m\u001b[1;33m\u001b[0m\u001b[1;33m\u001b[0m\u001b[0m\n\u001b[0;32m      5\u001b[0m \u001b[1;33m\u001b[0m\u001b[0m\n",
      "\u001b[1;31mModuleNotFoundError\u001b[0m: No module named 'CamHamThread'"
     ]
    }
   ],
   "source": [
    "# Make a camera object\n",
    "#from CamFLIR import CamFLIR\n",
    "from CamHamThread import CamHamThread\n",
    "cam=CamHamThread(exposure=0.5,SensitivityGain=4,CCDMode=\"NormalCCD\")\n",
    "\n"
   ]
  },
  {
   "cell_type": "code",
   "execution_count": null,
   "id": "b8e1871c",
   "metadata": {},
   "outputs": [],
   "source": []
  },
  {
   "cell_type": "code",
   "execution_count": 4,
   "id": "5f92d763",
   "metadata": {
    "scrolled": true
   },
   "outputs": [
    {
     "ename": "NameError",
     "evalue": "name 'cam' is not defined",
     "output_type": "error",
     "traceback": [
      "\u001b[1;31m---------------------------------------------------------------------------\u001b[0m",
      "\u001b[1;31mNameError\u001b[0m                                 Traceback (most recent call last)",
      "\u001b[1;32m~\\AppData\\Local\\Temp/ipykernel_9056/1724399994.py\u001b[0m in \u001b[0;36m<module>\u001b[1;34m\u001b[0m\n\u001b[0;32m      1\u001b[0m \u001b[1;31m#This is how you take a photo\u001b[0m\u001b[1;33m\u001b[0m\u001b[1;33m\u001b[0m\u001b[1;33m\u001b[0m\u001b[0m\n\u001b[1;32m----> 2\u001b[1;33m \u001b[0mimg\u001b[0m\u001b[1;33m=\u001b[0m\u001b[0mcam\u001b[0m\u001b[1;33m.\u001b[0m\u001b[0mSnap\u001b[0m\u001b[1;33m(\u001b[0m\u001b[1;36m1\u001b[0m\u001b[1;33m)\u001b[0m\u001b[1;33m\u001b[0m\u001b[1;33m\u001b[0m\u001b[0m\n\u001b[0m",
      "\u001b[1;31mNameError\u001b[0m: name 'cam' is not defined"
     ]
    }
   ],
   "source": [
    "#This is how you take a photo\n",
    "img=cam.Snap(1) \n"
   ]
  },
  {
   "cell_type": "code",
   "execution_count": 5,
   "id": "24f883eb",
   "metadata": {
    "scrolled": true
   },
   "outputs": [
    {
     "ename": "NameError",
     "evalue": "name 'img' is not defined",
     "output_type": "error",
     "traceback": [
      "\u001b[1;31m---------------------------------------------------------------------------\u001b[0m",
      "\u001b[1;31mNameError\u001b[0m                                 Traceback (most recent call last)",
      "\u001b[1;32m~\\AppData\\Local\\Temp/ipykernel_9056/2110539069.py\u001b[0m in \u001b[0;36m<module>\u001b[1;34m\u001b[0m\n\u001b[0;32m      1\u001b[0m \u001b[1;31m#and plot it\u001b[0m\u001b[1;33m\u001b[0m\u001b[1;33m\u001b[0m\u001b[1;33m\u001b[0m\u001b[0m\n\u001b[0;32m      2\u001b[0m \u001b[0mplt\u001b[0m\u001b[1;33m.\u001b[0m\u001b[0mfigure\u001b[0m\u001b[1;33m(\u001b[0m\u001b[0mfigsize\u001b[0m\u001b[1;33m=\u001b[0m\u001b[1;33m(\u001b[0m\u001b[1;36m5\u001b[0m\u001b[1;33m,\u001b[0m\u001b[1;36m5\u001b[0m\u001b[1;33m)\u001b[0m\u001b[1;33m,\u001b[0m\u001b[0mdpi\u001b[0m\u001b[1;33m=\u001b[0m\u001b[1;36m200\u001b[0m\u001b[1;33m)\u001b[0m\u001b[1;33m\u001b[0m\u001b[1;33m\u001b[0m\u001b[0m\n\u001b[1;32m----> 3\u001b[1;33m \u001b[0mpylab\u001b[0m\u001b[1;33m.\u001b[0m\u001b[0mimshow\u001b[0m\u001b[1;33m(\u001b[0m\u001b[0mimg\u001b[0m\u001b[1;33m[\u001b[0m\u001b[1;36m0\u001b[0m\u001b[1;33m]\u001b[0m\u001b[1;33m,\u001b[0m\u001b[0mclim\u001b[0m\u001b[1;33m=\u001b[0m\u001b[1;33m(\u001b[0m\u001b[1;36m200\u001b[0m\u001b[1;33m,\u001b[0m\u001b[1;36m100000\u001b[0m\u001b[1;33m)\u001b[0m\u001b[1;33m)\u001b[0m\u001b[1;33m\u001b[0m\u001b[1;33m\u001b[0m\u001b[0m\n\u001b[0m",
      "\u001b[1;31mNameError\u001b[0m: name 'img' is not defined"
     ]
    },
    {
     "data": {
      "text/plain": [
       "<Figure size 1000x1000 with 0 Axes>"
      ]
     },
     "metadata": {},
     "output_type": "display_data"
    }
   ],
   "source": [
    "#and plot it\n",
    "plt.figure(figsize=(5,5),dpi=200)\n",
    "pylab.imshow(img[0],clim=(200,100000))"
   ]
  },
  {
   "cell_type": "code",
   "execution_count": null,
   "id": "847b4918",
   "metadata": {},
   "outputs": [],
   "source": []
  },
  {
   "cell_type": "markdown",
   "id": "a3d2f37a",
   "metadata": {},
   "source": [
    "# Stage Object"
   ]
  },
  {
   "cell_type": "code",
   "execution_count": 6,
   "id": "1e43de5f",
   "metadata": {},
   "outputs": [
    {
     "name": "stdout",
     "output_type": "stream",
     "text": [
      "completed\n"
     ]
    }
   ],
   "source": [
    "#Initiate a stage object\n",
    "from Stage import Stage\n",
    "stg=Stage()\n",
    "print(\"completed\")"
   ]
  },
  {
   "cell_type": "code",
   "execution_count": null,
   "id": "537a706c",
   "metadata": {},
   "outputs": [],
   "source": [
    "print(\"Stage at \",stg.X,stg.Y,stg.Z)"
   ]
  },
  {
   "cell_type": "code",
   "execution_count": null,
   "id": "a51cd57c",
   "metadata": {},
   "outputs": [],
   "source": [
    "#Move in X and into focus\n",
    "#time.sleep(5)\n",
    "stg.MoveToX(-1.289)\n",
    "stg.MoveToY(0)\n",
    "#stg.MoveToZ(3.529)\n",
    "\n",
    "#Query position\n",
    "print(\"Stage at \",stg.X,stg.Y,stg.Z)"
   ]
  },
  {
   "cell_type": "code",
   "execution_count": null,
   "id": "3e05a068",
   "metadata": {},
   "outputs": [],
   "source": [
    "FocalPoints=[]\n",
    "FocalPoints.append([0,0,3.4656])\n",
    "FocalPoints.append([1,1,3.4800])\n",
    "FocalPoints.append([1,0,3.4707])\n",
    "FocalPoints.append([0,1,3.4754])\n",
    "FocalPoints=np.array(FocalPoints)\n",
    "\n",
    "stg.DefineFocalPlane(FocalPoints)"
   ]
  },
  {
   "cell_type": "code",
   "execution_count": null,
   "id": "28314152",
   "metadata": {},
   "outputs": [],
   "source": [
    "def DefineFocalPlane(FocalPoints):\n",
    "    FocalPlane=interp2d(FocalPoints[:,0],FocalPoints[:,1],FocalPoints[:,2])\n",
    "    \n",
    "def FocusAt(x,y):\n",
    "    stg.MoveToX(x)\n",
    "    stg.MoveToY(y)\n",
    "    stg.MoveToZ(FocalPlane(x,y)[0])\n",
    "    \n",
    "\n",
    "def BigImageSweep(xmin,xmax,xstep,ymin,ymax,ystep):\n",
    "    xs= np.arange(xmin,xmax,xstep)\n",
    "    ys= np.arange(ymin,ymax,ystep)\n",
    "    fig=plt.figure(figsize=(8,8),dpi=150)\n",
    "    gs = fig.add_gridspec(len(xs), len(ys), hspace=0, wspace=0)\n",
    "    axes= gs.subplots(sharex='col', sharey='row')\n",
    "    pics={}\n",
    "    for ix in range(0,len(xs)):\n",
    "        for iy in range(0,len(ys)):\n",
    "            x=xs[ix]\n",
    "            y=ys[iy]\n",
    "            stg.FocusAt(x,y)\n",
    "            time.sleep(0.5)\n",
    "            pics[x,y]=cam.Snap(1)[0]\n",
    "            axes[ix][iy].imshow(pics[x,y])\n",
    "            #plt.figure(figsize=(4,4),dpi=100)\n",
    "            #plt.imshow(pics[x,y])\n",
    "    return pics"
   ]
  },
  {
   "cell_type": "code",
   "execution_count": null,
   "id": "d95af836",
   "metadata": {},
   "outputs": [],
   "source": [
    "pics=BigImageSweep(0,0.1,0.02,0,0.1,0.02)"
   ]
  },
  {
   "cell_type": "code",
   "execution_count": null,
   "id": "c321e529",
   "metadata": {},
   "outputs": [],
   "source": [
    "for k in pics.keys():\n",
    "    plt.figure(figsize=(4,4),dpi=100)\n",
    "    plt.imshow(pics[k])"
   ]
  },
  {
   "cell_type": "code",
   "execution_count": null,
   "id": "37de1b00",
   "metadata": {},
   "outputs": [],
   "source": [
    "pics"
   ]
  },
  {
   "cell_type": "code",
   "execution_count": null,
   "id": "161a943b",
   "metadata": {},
   "outputs": [],
   "source": [
    "#time.sleep(1)\n",
    "stg.MoveToX(-6.3)\n",
    "stg.MoveToY(-0.6)\n",
    "stg.MoveToZ(3.4565)\n",
    "\n",
    "\n",
    "#Query position\n",
    "print(\"Stage at \",stg.X,stg.Y,stg.Z)"
   ]
  },
  {
   "cell_type": "code",
   "execution_count": null,
   "id": "c8eb610b",
   "metadata": {},
   "outputs": [],
   "source": []
  },
  {
   "cell_type": "markdown",
   "id": "94480fd8",
   "metadata": {},
   "source": [
    "# Scan Example"
   ]
  },
  {
   "cell_type": "code",
   "execution_count": null,
   "id": "4625af02",
   "metadata": {},
   "outputs": [],
   "source": [
    "zVal = []\n",
    "def MakeImageSweepBrian(Zs,numX,filename,showthem=True):#showthem=True removed\n",
    "    \n",
    "    # Put the images in this array\n",
    "    pics=[]\n",
    "    numZ =0\n",
    "    \n",
    "    for i in range(0,len(Zs)):\n",
    "        \n",
    "        \n",
    "        # Move stage\n",
    "        stg.MoveToZ(Zs[i])\n",
    "        \n",
    "        #Snap a pic\n",
    "        #pics.append(cam.Snap(1)[0])\n",
    "        cam.Snap(1)[0]\n",
    "        plt.figure(figsize=(5,5),dpi=200)\n",
    "        pylab.imshow(img[0],clim=(200,100000))\n",
    "        numZ+=1\n",
    "        \n",
    "        \n",
    "        \n",
    "        plt.savefig(filename+ '/'+'X_Position_'+str(numX)+'image__'+ str(numZ))\n",
    "            \n",
    "        print(Zs[i])\n",
    "        zVal.append(Zs[i])\n",
    "        time.sleep(.3)\n",
    "        \n",
    "\n",
    "    return pics"
   ]
  },
  {
   "cell_type": "code",
   "execution_count": null,
   "id": "d6bbd6f3",
   "metadata": {},
   "outputs": [],
   "source": [
    "def MakeImageSweep(Zs,showthem=True):\n",
    "    \n",
    "    # Put the images in this array\n",
    "    pics=[]\n",
    "    \n",
    "    for i in range(0,len(Zs)):\n",
    "        \n",
    "        # Move stage\n",
    "        stg.MoveToZ(Zs[i])\n",
    "        \n",
    "        #Snap a pic\n",
    "        #image = pics.append(cam.Snap(1)[0])\n",
    "        #do some function to save this image to a file\n",
    "        #open(\"xy.dat\",'w')\n",
    "        \n",
    "        time.sleep(.5)\n",
    "    return pics"
   ]
  },
  {
   "cell_type": "markdown",
   "id": "28cbfcc2",
   "metadata": {},
   "source": [
    "# AutoFocus on Microspheres"
   ]
  },
  {
   "cell_type": "code",
   "execution_count": 4,
   "id": "e5be5867",
   "metadata": {},
   "outputs": [
    {
     "ename": "SyntaxError",
     "evalue": "invalid syntax (Temp/ipykernel_10068/1190582038.py, line 5)",
     "output_type": "error",
     "traceback": [
      "\u001b[1;36m  File \u001b[1;32m\"C:\\Users\\ohs2758\\AppData\\Local\\Temp/ipykernel_10068/1190582038.py\"\u001b[1;36m, line \u001b[1;32m5\u001b[0m\n\u001b[1;33m    def autofocus(start, end, numPics)\u001b[0m\n\u001b[1;37m                                      ^\u001b[0m\n\u001b[1;31mSyntaxError\u001b[0m\u001b[1;31m:\u001b[0m invalid syntax\n"
     ]
    }
   ],
   "source": [
    "import os\n",
    "import numpy as np\n",
    "import matplotlib.pyplot as plt\n",
    "\n",
    "def autofocus(start, end, numPics):\n",
    "    Zs=np.linspace(float(start),float(end),float(numPics))\n",
    "    pics=MakeImageSweep(Zs,numX,showthem=True)\n",
    "\n",
    "    arrayMax = []\n",
    "    arrayTenthLargestVal=[]\n",
    "    arrayHundrethLargestVal =[]\n",
    "    numarray=[]\n",
    "    num =0\n",
    "\n",
    "    for pic in pics:\n",
    "\n",
    "        # create the histogram\n",
    "        num+=1\n",
    "        numarray.append(num)\n",
    "\n",
    "        imarray = np.asarray(pic)\n",
    "        imarray=imarray.flatten()\n",
    "        plt.figure()\n",
    "\n",
    "        maxValue=np.max(imarray)\n",
    "        arrayMax.append(maxValue)\n",
    "        minValue=np.min(imarray)\n",
    "        xmax=maxValue\n",
    "        xmin=minValue\n",
    "        tenthLargestVal=np.partition(imarray, -10)[-10]\n",
    "        optimize = tenthLargestVal\n",
    "        arrayTenthLargestVal.append(optimize)\n",
    "        hundrethLargestVal = np.partition(imarray, -100)[-100]\n",
    "        arrayHundrethLargestVal.append(hundrethLargestVal)\n",
    "        thousandthLargestVal = np.partition(imarray, -1000)[-1000]\n",
    "        tenthousandthLargestVal = np.partition(imarray, -10000)[-10000]\n",
    "        plt.axvline(x=xmax, ymin=0, ymax=1, color ='red', label=\"max\")\n",
    "        plt.axvline(x=xmin, ymin=0, ymax=1, color='blue',label = \"min\")\n",
    "        plt.axvline(x=tenthLargestVal, ymin=0, ymax=1, color='green', label = \"tenthLargestVal\")\n",
    "        plt.axvline(x=hundrethLargestVal, ymin=0, ymax=1, color='yellow', label = \"hundrethLargestVal\")\n",
    "        plt.axvline(x=thousandthLargestVal, ymin=0, ymax=1, color='orange', Label = \"thousandthLargestVal\")\n",
    "        plt.axvline(x=tenthousandthLargestVal, ymin=0, ymax=1, color='pink', label = \"tenthousandthLargestVal\")\n",
    "        plt.legend(loc=\"upper left\")\n",
    "\n",
    "        (n, bins, patches) = plt.hist(imarray, bins=10**np.logspace(np.log10(.1),np.log10(5.0), 256), histtype='stepfilled')\n",
    "        plt.yscale('symlog')\n",
    "        plt.xscale('log')\n",
    "        plt.title(\"Grayscale Histogram\")\n",
    "        plt.xlabel(\"grayscale value\")\n",
    "        plt.ylabel(\"pixels\")\n",
    "        plt.xlim(1000,100000)\n",
    "        plt.ylim(1, 1000000)\n",
    "        plt.savefig(r\"C:\\Users\\ohs2758\\Documents\\plots\"+ str(num))\n",
    "        plt.close()\n",
    "\n",
    "    plt.figure()\n",
    "    plt.plot(numarray,arrayMax, color ='red',label=\"max\")\n",
    "    plt.plot(numarray,arrayTenthLargestVal, color ='green',label = \"tenthLargestVal\")\n",
    "    plt.plot(numarray,arrayHundrethLargestVal, color ='yellow',label = \"hundrethLargestVal\")\n",
    "    plt.title(\"Brightness per Image\")\n",
    "    plt.xlabel(\"Image number\")\n",
    "    plt.ylabel(\"Brightness Value\")\n",
    "    plt.legend(loc=\"upper left\")\n",
    "    plt.show()\n",
    "\n",
    "    MaxTenthBrightestVal=np.max(arrayTenthLargestVal)\n",
    "    indexTenthVal = arrayTenthLargestVal.index(MaxTenthBrightestVal)\n",
    "\n",
    "    stg.MoveToZ(zVal[indexTenthVal])\n",
    "    print(\"AutoFocused\")\n"
   ]
  },
  {
   "cell_type": "code",
   "execution_count": null,
   "id": "2158b3fc",
   "metadata": {},
   "outputs": [],
   "source": [
    "afMicrospheres=autofocus(3.45,3.46,10)"
   ]
  },
  {
   "cell_type": "markdown",
   "id": "f899ad12",
   "metadata": {},
   "source": [
    "# Brian Project"
   ]
  },
  {
   "cell_type": "code",
   "execution_count": null,
   "id": "5200d809",
   "metadata": {
    "scrolled": true
   },
   "outputs": [],
   "source": [
    "numX=1\n",
    "Zs=np.linspace(3.45,3.46,10)\n",
    "pics=MakeImageSweep(Zs,numX,showthem=True)"
   ]
  },
  {
   "cell_type": "code",
   "execution_count": null,
   "id": "662d8cc3",
   "metadata": {},
   "outputs": [],
   "source": [
    "#PATH = \"C:\\Users\\ohs2758\\Documents\\microscope captures\\CNN_trainingData\"\n",
    "#copyToPath = \"C:\\Users\\ohs2758\\Documents\\microscope captures\\Dump\"\n",
    "x = 1\n",
    "y = 0\n",
    "Zs=np.linspace(3.54,3.55,50)\n",
    "incrementX = 0.1\n",
    "spanX = 1\n",
    "\n",
    "\n",
    "numX=0\n",
    "for i in arange(x,x+spanX,incrementX):\n",
    "    #leaf = 'Sweep_' + str(numZ)+ 'image_'+str(numX))\n",
    "    filename = 'C:/Users/ohs2758/Documents/GitHub\\MicroscopeControlSuite/Brian_training_data/' + 'Sweep_' + str(numX)\n",
    "    #path = os.path.join(parent,leaf)\n",
    "    os.makedirs(filename)\n",
    "        \n",
    "    #with open('%d/%d.png' % (numX,numZ), 'w+') as f:\n",
    "    #   f.write(img)\n",
    "    numX+=1\n",
    "    \n",
    "    stg.MoveToX(i)\n",
    "    time.sleep(0.3)\n",
    "    pics=MakeImageSweepBrian(Zs,numX,filename,showthem=True)\n",
    "    \n",
    "    print(\"Stage at \",stg.X,stg.Y,stg.Z)\n",
    "    \n",
    "        "
   ]
  },
  {
   "cell_type": "markdown",
   "id": "861b5c46",
   "metadata": {},
   "source": [
    "# Manuel GUI"
   ]
  },
  {
   "cell_type": "code",
   "execution_count": 5,
   "id": "ca346f80",
   "metadata": {},
   "outputs": [
    {
     "name": "stdout",
     "output_type": "stream",
     "text": [
      "Checked\n",
      "Checked\n",
      "Checked\n",
      "Checked\n",
      "Checked\n",
      "Checked\n",
      "Checked\n",
      "Checked\n",
      "Checked\n",
      "Checked\n",
      "Checked\n",
      "Checked\n",
      "Checked\n",
      "Checked\n",
      "Checked\n",
      "Checked\n",
      "Checked\n",
      "Checked\n",
      "Checked\n",
      "Checked\n",
      "Checked\n",
      "Checked\n",
      "Checked\n",
      "Checked\n",
      "Checked\n",
      "Checked\n",
      "Checked\n",
      "Checked\n",
      "Checked\n",
      "Checked\n",
      "Checked\n",
      "Checked\n",
      "Checked\n",
      "Checked\n",
      "Checked\n",
      "Checked\n",
      "Checked\n",
      "Checked\n",
      "Checked\n",
      "Checked\n",
      "Checked\n",
      "Checked\n",
      "Checked\n",
      "Checked\n",
      "Checked\n",
      "Checked\n",
      "Checked\n",
      "Checked\n",
      "Checked\n",
      "Checked\n",
      "Checked\n",
      "Checked\n",
      "Checked\n",
      "Checked\n",
      "Checked\n",
      "Checked\n",
      "Checked\n",
      "Checked\n",
      "Checked\n",
      "Checked\n"
     ]
    },
    {
     "data": {
      "text/plain": [
       "0"
      ]
     },
     "execution_count": 5,
     "metadata": {},
     "output_type": "execute_result"
    }
   ],
   "source": [
    "\n",
    "import sys\n",
    "import random\n",
    "import matplotlib \n",
    "matplotlib.use('Qt5Agg')\n",
    "import os\n",
    "import numpy as np\n",
    "\n",
    "from PyQt5 import QtCore, QtWidgets\n",
    "\n",
    "from matplotlib.backends.backend_qt5agg import FigureCanvasQTAgg as FigureCanvas\n",
    "from matplotlib.figure import Figure\n",
    "\n",
    "\n",
    "def newest(path):\n",
    "    files = os.listdir(path)\n",
    "    paths = [os.path.join(path, basename) for basename in files]\n",
    "    return max(paths, key=os.path.getctime)\n",
    "\n",
    "class MplCanvas(FigureCanvas):\n",
    "\n",
    "    def __init__(self, parent=None, width=5, height=4, dpi=100):\n",
    "        fig = Figure(figsize=(width, height), dpi=dpi)\n",
    "        self.axes = fig.add_subplot(111)\n",
    "        super(MplCanvas, self).__init__(fig)\n",
    "\n",
    "\n",
    "class MainWindow(QtWidgets.QMainWindow):\n",
    "\n",
    "    def __init__(self, *args, **kwargs):\n",
    "        super(MainWindow, self).__init__(*args, **kwargs)\n",
    "\n",
    "        self.canvas = MplCanvas(self, width=5, height=4, dpi=100)\n",
    "        self.setCentralWidget(self.canvas)\n",
    "\n",
    "        self.figure = Figure(figsize=(5, 3))\n",
    "        self.canvas = FigureCanvas(self.figure)\n",
    "        self.ax = self.figure.subplots()\n",
    "\n",
    "    \n",
    "        self.update_plot()\n",
    "\n",
    "\n",
    "        file=newest(r\"C:/Users/ohs2758/Documents/GitHub/MicroscopeControlSuite/buffer\")\n",
    "        image = np.loadtxt(file)\n",
    "        self.ax.imshow(image)\n",
    "        self.ax.set_axis_off()\n",
    "        self.setCentralWidget(self.canvas)\n",
    "\n",
    "        self.show()\n",
    "\n",
    "        # Setup a timer to trigger the redraw by calling update_plot.\n",
    "        self.timer = QtCore.QTimer()\n",
    "        self.timer.setInterval(1000)\n",
    "        self.timer.timeout.connect(self.update_plot)\n",
    "        self.timer.start()\n",
    "        \n",
    "        \n",
    "    def update_plot(self):\n",
    "     \n",
    "        file=newest(r\"C:/Users/ohs2758/Documents/GitHub/MicroscopeControlSuite/buffer\")\n",
    "        image = np.loadtxt(file)\n",
    "        self.ax.imshow(image)\n",
    "        \n",
    "        print(\"Checked\")\n",
    "        \n",
    "        self.canvas.draw()\n",
    "\n",
    "    \n",
    "\n",
    "\n",
    "app = QtWidgets.QApplication(sys.argv)\n",
    "w = MainWindow()\n",
    "app.exec_()"
   ]
  },
  {
   "cell_type": "code",
   "execution_count": 6,
   "id": "426c04de",
   "metadata": {},
   "outputs": [],
   "source": [
    "def newest(path):\n",
    "    files = os.listdir(path)\n",
    "    paths = [os.path.join(path, basename) for basename in files]\n",
    "    return max(paths, key=os.path.getctime)\n",
    "\n",
    "\n",
    "\n",
    "def printImg(name):\n",
    "    image = np.loadtxt(name)\n",
    "    pylab.imshow(image)\n",
    "    plt.show()\n",
    "    \n",
    "    \n",
    "file = newest(r\"C:/Users/ohs2758/Documents/GitHub/MicroscopeControlSuite/buffer\")   "
   ]
  },
  {
   "cell_type": "code",
   "execution_count": 7,
   "id": "a9a4cf72",
   "metadata": {},
   "outputs": [
    {
     "data": {
      "image/png": "[encoded data removed]",
      "text/plain": [
       "<Figure size 432x288 with 1 Axes>"
      ]
     },
     "metadata": {
      "needs_background": "light"
     },
     "output_type": "display_data"
    }
   ],
   "source": [
    "printImg(file)"
   ]
  },
  {
   "cell_type": "code",
   "execution_count": null,
   "id": "d7f0dedf",
   "metadata": {},
   "outputs": [],
   "source": []
  },
  {
   "cell_type": "code",
   "execution_count": null,
   "id": "8a99cbd4",
   "metadata": {},
   "outputs": [],
   "source": []
  },
  {
   "cell_type": "code",
   "execution_count": null,
   "id": "64376a87",
   "metadata": {},
   "outputs": [],
   "source": []
  },
  {
   "cell_type": "code",
   "execution_count": null,
   "id": "26a3e4cc",
   "metadata": {},
   "outputs": [],
   "source": []
  },
  {
   "cell_type": "code",
   "execution_count": null,
   "id": "cc2a6aee",
   "metadata": {},
   "outputs": [],
   "source": []
  },
  {
   "cell_type": "code",
   "execution_count": null,
   "id": "069ab5b3",
   "metadata": {},
   "outputs": [],
   "source": []
  },
  {
   "cell_type": "code",
   "execution_count": null,
   "id": "b700f975",
   "metadata": {},
   "outputs": [],
   "source": []
  },
  {
   "cell_type": "code",
   "execution_count": null,
   "id": "b9d9bdc4",
   "metadata": {},
   "outputs": [],
   "source": []
  },
  {
   "cell_type": "code",
   "execution_count": null,
   "id": "48d5df2d",
   "metadata": {},
   "outputs": [],
   "source": [
    "bufferPath= '/c/Users/ohs2758/Documents/GitHub/MicroscopeControlSuite/buffer'\n"
   ]
  },
  {
   "cell_type": "code",
   "execution_count": null,
   "id": "5cb32d41",
   "metadata": {
    "scrolled": true
   },
   "outputs": [],
   "source": [
    "#This is how you take a photo\n",
    "img=cam.Snap(1) \n",
    "#and plot it\n",
    "plt.figure(figsize=(5,5),dpi=200)\n",
    "pylab.imshow(img[0],clim=(200,100000))"
   ]
  },
  {
   "cell_type": "code",
   "execution_count": null,
   "id": "72b3ad53",
   "metadata": {},
   "outputs": [],
   "source": [
    "for i in range(0,len(pics)):\n",
    "    #Optionally display them\n",
    "    plt.figure(figsize=(5,5))\n",
    "    plt.imshow(pics[i])\n",
    "    plt.title(Zs[i])\n",
    "    plt.clim(2000,5000)"
   ]
  },
  {
   "cell_type": "code",
   "execution_count": null,
   "id": "acb501b5",
   "metadata": {},
   "outputs": [],
   "source": [
    "Integrals=[sum(sum(p)) for p in pics]\n",
    "plt.figure(figsize=(5,5),dpi=150)\n",
    "plt.xlabel(\"Z pos (mm)\")\n",
    "plt.ylabel(\"Intensity (arb)\")\n",
    "plt.plot(Zs,Integrals)"
   ]
  },
  {
   "cell_type": "code",
   "execution_count": null,
   "id": "06b39394",
   "metadata": {},
   "outputs": [],
   "source": []
  },
  {
   "cell_type": "code",
   "execution_count": null,
   "id": "345ecbbc",
   "metadata": {},
   "outputs": [],
   "source": []
  }
 ],
 "metadata": {
  "kernelspec": {
   "display_name": "Python 3 (ipykernel)",
   "language": "python",
   "name": "python3"
  },
  "language_info": {
   "codemirror_mode": {
    "name": "ipython",
    "version": 3
   },
   "file_extension": ".py",
   "mimetype": "text/x-python",
   "name": "python",
   "nbconvert_exporter": "python",
   "pygments_lexer": "ipython3",
   "version": "3.7.11"
  }
 },
 "nbformat": 4,
 "nbformat_minor": 5
}
