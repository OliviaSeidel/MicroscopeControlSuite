{
 "cells": [
  {
   "cell_type": "code",
   "execution_count": null,
   "id": "3c0bea1a",
   "metadata": {},
   "outputs": [],
   "source": [
    "# For some reason this seems to be necessary in anaconda to stop matplotlib crashing\n",
    "import matplotlib.pyplot as plt\n",
    "%matplotlib inline\n",
    "plt.figure(figsize=(1,1))\n",
    "plt.plot([1,2],[2,4])\n",
    "plt.show()"
   ]
  },
  {
   "cell_type": "code",
   "execution_count": null,
   "id": "a742a501",
   "metadata": {},
   "outputs": [],
   "source": [
    "# Now import everything else\n",
    "import numpy as np\n",
    "import pylab\n",
    "import time\n"
   ]
  },
  {
   "cell_type": "markdown",
   "id": "f8dc2bf2",
   "metadata": {},
   "source": [
    "# Camera Object"
   ]
  },
  {
   "cell_type": "code",
   "execution_count": null,
   "id": "9e529bd4",
   "metadata": {},
   "outputs": [],
   "source": [
    "# Make a camera object\n",
    "#from CamFLIR import CamFLIR\n",
    "from CamHamThread import CamHamThread\n",
    "cam=CamHamThread(exposure=2)"
   ]
  },
  {
   "cell_type": "code",
   "execution_count": null,
   "id": "5f92d763",
   "metadata": {},
   "outputs": [],
   "source": [
    "#This is how you take a photo\n",
    "img=cam.Snap(1)"
   ]
  },
  {
   "cell_type": "code",
   "execution_count": null,
   "id": "24f883eb",
   "metadata": {
    "scrolled": true
   },
   "outputs": [],
   "source": [
    "#and plot it\n",
    "plt.figure(figsize=(5,5),dpi=200)\n",
    "pylab.imshow(img[0],clim=(2000,2800))"
   ]
  },
  {
   "cell_type": "markdown",
   "id": "a3d2f37a",
   "metadata": {},
   "source": [
    "# Stage Object"
   ]
  },
  {
   "cell_type": "code",
   "execution_count": null,
   "id": "1e43de5f",
   "metadata": {},
   "outputs": [],
   "source": [
    "#Initiate a stage object\n",
    "from Stage import Stage\n",
    "stg=Stage()"
   ]
  },
  {
   "cell_type": "code",
   "execution_count": null,
   "id": "a51cd57c",
   "metadata": {},
   "outputs": [],
   "source": [
    "#Move in X and into focus\n",
    "stg.MoveToX(0.0)\n",
    "stg.MoveToZ(3.4)\n",
    "\n",
    "#Query position\n",
    "print(\"Stage at \",stg.X,stg.Y,stg.Z)"
   ]
  },
  {
   "cell_type": "markdown",
   "id": "94480fd8",
   "metadata": {},
   "source": [
    "# Scan Example"
   ]
  },
  {
   "cell_type": "code",
   "execution_count": null,
   "id": "4625af02",
   "metadata": {},
   "outputs": [],
   "source": [
    "def MakeImageSweep(Zs,showthem=True):\n",
    "    \n",
    "    # Put the images in this array\n",
    "    pics=[]\n",
    "    \n",
    "    for i in range(0,len(Zs)):\n",
    "        \n",
    "        # Move stage\n",
    "        stg.MoveToZ(Zs[i])\n",
    "        \n",
    "        #Snap a pic\n",
    "        pics.append(cam.Snap(1)[0])\n",
    "        \n",
    "        time.sleep(1)\n",
    "\n",
    "    return pics"
   ]
  },
  {
   "cell_type": "code",
   "execution_count": null,
   "id": "9559bcc8",
   "metadata": {
    "scrolled": true
   },
   "outputs": [],
   "source": [
    "Zs=np.linspace(3.408,3.412,20)\n",
    "pics=MakeImageSweep(Zs,showthem=True)"
   ]
  },
  {
   "cell_type": "code",
   "execution_count": null,
   "id": "72b3ad53",
   "metadata": {},
   "outputs": [],
   "source": [
    "for i in range(0,len(pics)):\n",
    "    #Optionally display them\n",
    "    plt.figure(figsize=(5,5))\n",
    "    plt.imshow(pics[i])\n",
    "    plt.title(Zs[i])\n",
    "    plt.clim(2000,4000)"
   ]
  },
  {
   "cell_type": "code",
   "execution_count": null,
   "id": "acb501b5",
   "metadata": {},
   "outputs": [],
   "source": [
    "Integrals=[sum(sum(p)) for p in pics]\n",
    "plt.figure(figsize=(5,5),dpi=150)\n",
    "plt.xlabel(\"Z pos (mm)\")\n",
    "plt.ylabel(\"Intensity (arb)\")\n",
    "plt.plot(Zs,Integrals)"
   ]
  },
  {
   "cell_type": "code",
   "execution_count": null,
   "id": "df5e3a64",
   "metadata": {},
   "outputs": [],
   "source": []
  }
 ],
 "metadata": {
  "kernelspec": {
   "display_name": "Python 3 (ipykernel)",
   "language": "python",
   "name": "python3"
  },
  "language_info": {
   "codemirror_mode": {
    "name": "ipython",
    "version": 3
   },
   "file_extension": ".py",
   "mimetype": "text/x-python",
   "name": "python",
   "nbconvert_exporter": "python",
   "pygments_lexer": "ipython3",
   "version": "3.7.11"
  }
 },
 "nbformat": 4,
 "nbformat_minor": 5
}
