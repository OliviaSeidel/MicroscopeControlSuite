{
 "cells": [
  {
   "cell_type": "code",
   "execution_count": 1,
   "id": "3c0bea1a",
   "metadata": {},
   "outputs": [
    {
     "data": {
      "image/png": "[encoded data removed]",
      "text/plain": [
       "<Figure size 72x72 with 1 Axes>"
      ]
     },
     "metadata": {
      "needs_background": "light"
     },
     "output_type": "display_data"
    }
   ],
   "source": [
    "# For some reason this seems to be necessary in anaconda to stop matplotlib crashing\n",
    "import matplotlib.pyplot as plt\n",
    "%matplotlib inline\n",
    "plt.figure(figsize=(1,1))\n",
    "plt.plot([1,2],[2,4])\n",
    "plt.show()"
   ]
  },
  {
   "cell_type": "code",
   "execution_count": 2,
   "id": "a742a501",
   "metadata": {},
   "outputs": [],
   "source": [
    "# Now import everything else\n",
    "import numpy as np\n",
    "import pylab\n",
    "import time\n",
    "import scipy\n",
    "from scipy.interpolate import interp2d"
   ]
  },
  {
   "cell_type": "markdown",
   "id": "f8dc2bf2",
   "metadata": {},
   "source": [
    "# Camera Object"
   ]
  },
  {
   "cell_type": "code",
   "execution_count": 3,
   "id": "9e529bd4",
   "metadata": {},
   "outputs": [],
   "source": [
    "# Make a camera object\n",
    "#from CamFLIR import CamFLIR\n",
    "from CamHamThread import CamHamThread\n",
    "cam=CamHamThread(exposure=0.5,SensitivityGain=4,CCDMode=\"NormalCCD\")\n",
    "\n"
   ]
  },
  {
   "cell_type": "code",
   "execution_count": null,
   "id": "b8e1871c",
   "metadata": {},
   "outputs": [],
   "source": []
  },
  {
   "cell_type": "code",
   "execution_count": 4,
   "id": "5f92d763",
   "metadata": {
    "scrolled": true
   },
   "outputs": [],
   "source": [
    "#This is how you take a photo\n",
    "img=cam.Snap(1) \n"
   ]
  },
  {
   "cell_type": "code",
   "execution_count": 5,
   "id": "24f883eb",
   "metadata": {
    "scrolled": true
   },
   "outputs": [
    {
     "data": {
      "text/plain": [
       "<matplotlib.image.AxesImage at 0xa7edd88>"
      ]
     },
     "execution_count": 5,
     "metadata": {},
     "output_type": "execute_result"
    },
    {
     "data": {
      "image/png": "[encoded data removed]",
      "text/plain": [
       "<Figure size 1000x1000 with 1 Axes>"
      ]
     },
     "metadata": {
      "needs_background": "light"
     },
     "output_type": "display_data"
    }
   ],
   "source": [
    "#and plot it\n",
    "plt.figure(figsize=(5,5),dpi=200)\n",
    "pylab.imshow(img[0],clim=(200,100000))"
   ]
  },
  {
   "cell_type": "code",
   "execution_count": 32,
   "id": "847b4918",
   "metadata": {},
   "outputs": [
    {
     "data": {
      "text/plain": [
       "<Figure size 432x288 with 0 Axes>"
      ]
     },
     "metadata": {},
     "output_type": "display_data"
    }
   ],
   "source": [
    "folder='/Users/ohs2758/Documents/'\n",
    "plt.savefig('lala'+ 'image__'+ str(1)) "
   ]
  },
  {
   "cell_type": "markdown",
   "id": "a3d2f37a",
   "metadata": {},
   "source": [
    "# Stage Object"
   ]
  },
  {
   "cell_type": "code",
   "execution_count": null,
   "id": "1e43de5f",
   "metadata": {},
   "outputs": [],
   "source": [
    "#Initiate a stage object\n",
    "from Stage import Stage\n",
    "stg=Stage()"
   ]
  },
  {
   "cell_type": "code",
   "execution_count": null,
   "id": "537a706c",
   "metadata": {},
   "outputs": [],
   "source": [
    "print(\"Stage at \",stg.X,stg.Y,stg.Z)"
   ]
  },
  {
   "cell_type": "code",
   "execution_count": null,
   "id": "a51cd57c",
   "metadata": {},
   "outputs": [],
   "source": [
    "#Move in X and into focus\n",
    "#time.sleep(5)\n",
    "stg.MoveToX(-3)\n",
    "stg.MoveToY(1)\n",
    "#stg.MoveToZ(3.529)\n",
    "\n",
    "#Query position\n",
    "print(\"Stage at \",stg.X,stg.Y,stg.Z)"
   ]
  },
  {
   "cell_type": "code",
   "execution_count": null,
   "id": "3e05a068",
   "metadata": {},
   "outputs": [],
   "source": [
    "FocalPoints=[]\n",
    "FocalPoints.append([0,0,3.4656])\n",
    "FocalPoints.append([1,1,3.4800])\n",
    "FocalPoints.append([1,0,3.4707])\n",
    "FocalPoints.append([0,1,3.4754])\n",
    "FocalPoints=np.array(FocalPoints)\n",
    "\n",
    "stg.DefineFocalPlane(FocalPoints)"
   ]
  },
  {
   "cell_type": "code",
   "execution_count": null,
   "id": "28314152",
   "metadata": {},
   "outputs": [],
   "source": [
    "def DefineFocalPlane(FocalPoints):\n",
    "    FocalPlane=interp2d(FocalPoints[:,0],FocalPoints[:,1],FocalPoints[:,2])\n",
    "    \n",
    "def FocusAt(x,y):\n",
    "    stg.MoveToX(x)\n",
    "    stg.MoveToY(y)\n",
    "    stg.MoveToZ(FocalPlane(x,y)[0])\n",
    "    \n",
    "\n",
    "def BigImageSweep(xmin,xmax,xstep,ymin,ymax,ystep):\n",
    "    xs= np.arange(xmin,xmax,xstep)\n",
    "    ys= np.arange(ymin,ymax,ystep)\n",
    "    fig=plt.figure(figsize=(8,8),dpi=150)\n",
    "    gs = fig.add_gridspec(len(xs), len(ys), hspace=0, wspace=0)\n",
    "    axes= gs.subplots(sharex='col', sharey='row')\n",
    "    pics={}\n",
    "    for ix in range(0,len(xs)):\n",
    "        for iy in range(0,len(ys)):\n",
    "            x=xs[ix]\n",
    "            y=ys[iy]\n",
    "            stg.FocusAt(x,y)\n",
    "            time.sleep(0.5)\n",
    "            pics[x,y]=cam.Snap(1)[0]\n",
    "            axes[ix][iy].imshow(pics[x,y])\n",
    "            #plt.figure(figsize=(4,4),dpi=100)\n",
    "            #plt.imshow(pics[x,y])\n",
    "    return pics"
   ]
  },
  {
   "cell_type": "code",
   "execution_count": null,
   "id": "d95af836",
   "metadata": {},
   "outputs": [],
   "source": [
    "pics=BigImageSweep(0,0.1,0.02,0,0.1,0.02)"
   ]
  },
  {
   "cell_type": "code",
   "execution_count": null,
   "id": "c321e529",
   "metadata": {},
   "outputs": [],
   "source": [
    "for k in pics.keys():\n",
    "    plt.figure(figsize=(4,4),dpi=100)\n",
    "    plt.imshow(pics[k])"
   ]
  },
  {
   "cell_type": "code",
   "execution_count": null,
   "id": "37de1b00",
   "metadata": {},
   "outputs": [],
   "source": [
    "pics"
   ]
  },
  {
   "cell_type": "code",
   "execution_count": null,
   "id": "161a943b",
   "metadata": {},
   "outputs": [],
   "source": [
    "#time.sleep(1)\n",
    "stg.MoveToX(-6.3)\n",
    "stg.MoveToY(-0.6)\n",
    "stg.MoveToZ(3.4565)\n",
    "\n",
    "\n",
    "#Query position\n",
    "print(\"Stage at \",stg.X,stg.Y,stg.Z)"
   ]
  },
  {
   "cell_type": "markdown",
   "id": "94480fd8",
   "metadata": {},
   "source": [
    "# Scan Example"
   ]
  },
  {
   "cell_type": "code",
   "execution_count": null,
   "id": "4625af02",
   "metadata": {},
   "outputs": [],
   "source": [
    "zVal = []\n",
    "def MakeImageSweep(Zs,showthem=True):\n",
    "    \n",
    "    # Put the images in this array\n",
    "    pics=[]\n",
    "    \n",
    "    for i in range(0,len(Zs)):\n",
    "        \n",
    "        # Move stage\n",
    "        stg.MoveToZ(Zs[i])\n",
    "        \n",
    "        #Snap a pic\n",
    "        pics.append(cam.Snap(1)[0])\n",
    "        print(Zs[i])\n",
    "        zVal.append(Zs[i])\n",
    "        time.sleep(1)\n",
    "\n",
    "    return pics"
   ]
  },
  {
   "cell_type": "code",
   "execution_count": null,
   "id": "5200d809",
   "metadata": {
    "scrolled": true
   },
   "outputs": [],
   "source": [
    "Zs=np.linspace(3.45,3.46,50)\n",
    "pics=MakeImageSweep(Zs,showthem=True)"
   ]
  },
  {
   "cell_type": "code",
   "execution_count": null,
   "id": "1f1ab128",
   "metadata": {},
   "outputs": [],
   "source": [
    "print(zVal)\n"
   ]
  },
  {
   "cell_type": "code",
   "execution_count": null,
   "id": "e5be5867",
   "metadata": {},
   "outputs": [],
   "source": [
    "import os\n",
    "import numpy as np\n",
    "import matplotlib.pyplot as plt\n",
    "\n",
    "arrayMax = []\n",
    "arrayTenthLargestVal=[]\n",
    "arrayHundrethLargestVal =[]\n",
    "numarray=[]\n",
    "num =0\n",
    "\n",
    "\n",
    "for pic in pics:\n",
    "    \n",
    "    # create the histogram\n",
    "    num+=1\n",
    "    numarray.append(num)\n",
    "\n",
    "    imarray = np.asarray(pic)\n",
    "    imarray=imarray.flatten()\n",
    "    plt.figure()\n",
    "\n",
    "    maxValue=np.max(imarray)\n",
    "    arrayMax.append(maxValue)\n",
    "    minValue=np.min(imarray)\n",
    "    xmax=maxValue\n",
    "    xmin=minValue\n",
    "    tenthLargestVal=np.partition(imarray, -10)[-10]\n",
    "    optimize = tenthLargestVal\n",
    "    arrayTenthLargestVal.append(optimize)\n",
    "    hundrethLargestVal = np.partition(imarray, -100)[-100]\n",
    "    arrayHundrethLargestVal.append(hundrethLargestVal)\n",
    "    thousandthLargestVal = np.partition(imarray, -1000)[-1000]\n",
    "    tenthousandthLargestVal = np.partition(imarray, -10000)[-10000]\n",
    "    plt.axvline(x=xmax, ymin=0, ymax=1, color ='red', label=\"max\")\n",
    "    plt.axvline(x=xmin, ymin=0, ymax=1, color='blue',label = \"min\")\n",
    "    plt.axvline(x=tenthLargestVal, ymin=0, ymax=1, color='green', label = \"tenthLargestVal\")\n",
    "    plt.axvline(x=hundrethLargestVal, ymin=0, ymax=1, color='yellow', label = \"hundrethLargestVal\")\n",
    "    plt.axvline(x=thousandthLargestVal, ymin=0, ymax=1, color='orange', Label = \"thousandthLargestVal\")\n",
    "    plt.axvline(x=tenthousandthLargestVal, ymin=0, ymax=1, color='pink', label = \"tenthousandthLargestVal\")\n",
    "    plt.legend(loc=\"upper left\")\n",
    "\n",
    "    (n, bins, patches) = plt.hist(imarray, bins=10**np.logspace(np.log10(.1),np.log10(5.0), 256), histtype='stepfilled')\n",
    "    plt.yscale('symlog')\n",
    "    plt.xscale('log')\n",
    "    plt.title(\"Grayscale Histogram\")\n",
    "    plt.xlabel(\"grayscale value\")\n",
    "    plt.ylabel(\"pixels\")\n",
    "    plt.xlim(1000,100000)\n",
    "    plt.ylim(1, 1000000)\n",
    "    plt.savefig(r\"C:\\Users\\ohs2758\\Documents\\plots\"+ str(num))\n",
    "    plt.close()\n",
    "\n",
    "plt.figure()\n",
    "plt.plot(numarray,arrayMax, color ='red',label=\"max\")\n",
    "plt.plot(numarray,arrayTenthLargestVal, color ='green',label = \"tenthLargestVal\")\n",
    "plt.plot(numarray,arrayHundrethLargestVal, color ='yellow',label = \"hundrethLargestVal\")\n",
    "plt.title(\"Brightness per Image\")\n",
    "plt.xlabel(\"Image number\")\n",
    "plt.ylabel(\"Brightness Value\")\n",
    "plt.legend(loc=\"upper left\")\n",
    "plt.show()\n",
    "\n",
    "MaxTenthBrightestVal=np.max(arrayTenthLargestVal)\n",
    "indexTenthVal = arrayTenthLargestVal.index(MaxTenthBrightestVal)\n",
    "\n",
    "print(MaxTenthBrightestVal)\n",
    "print(arrayTenthLargestVal)\n",
    "print(indexTenthVal)\n"
   ]
  },
  {
   "cell_type": "code",
   "execution_count": null,
   "id": "2158b3fc",
   "metadata": {},
   "outputs": [],
   "source": [
    "\n",
    "stg.MoveToZ(zVal[indexTenthVal])"
   ]
  },
  {
   "cell_type": "code",
   "execution_count": null,
   "id": "5cb32d41",
   "metadata": {
    "scrolled": true
   },
   "outputs": [],
   "source": [
    "#This is how you take a photo\n",
    "img=cam.Snap(1) \n",
    "#and plot it\n",
    "plt.figure(figsize=(5,5),dpi=200)\n",
    "pylab.imshow(img[0],clim=(200,100000))"
   ]
  },
  {
   "cell_type": "code",
   "execution_count": null,
   "id": "72b3ad53",
   "metadata": {},
   "outputs": [],
   "source": [
    "for i in range(0,len(pics)):\n",
    "    #Optionally display them\n",
    "    plt.figure(figsize=(5,5))\n",
    "    plt.imshow(pics[i])\n",
    "    plt.title(Zs[i])\n",
    "    plt.clim(2000,5000)"
   ]
  },
  {
   "cell_type": "code",
   "execution_count": null,
   "id": "acb501b5",
   "metadata": {},
   "outputs": [],
   "source": [
    "Integrals=[sum(sum(p)) for p in pics]\n",
    "plt.figure(figsize=(5,5),dpi=150)\n",
    "plt.xlabel(\"Z pos (mm)\")\n",
    "plt.ylabel(\"Intensity (arb)\")\n",
    "plt.plot(Zs,Integrals)"
   ]
  },
  {
   "cell_type": "code",
   "execution_count": null,
   "id": "06b39394",
   "metadata": {},
   "outputs": [],
   "source": []
  },
  {
   "cell_type": "code",
   "execution_count": null,
   "id": "345ecbbc",
   "metadata": {},
   "outputs": [],
   "source": []
  }
 ],
 "metadata": {
  "kernelspec": {
   "display_name": "Python 3 (ipykernel)",
   "language": "python",
   "name": "python3"
  },
  "language_info": {
   "codemirror_mode": {
    "name": "ipython",
    "version": 3
   },
   "file_extension": ".py",
   "mimetype": "text/x-python",
   "name": "python",
   "nbconvert_exporter": "python",
   "pygments_lexer": "ipython3",
   "version": "3.7.11"
  }
 },
 "nbformat": 4,
 "nbformat_minor": 5
}
